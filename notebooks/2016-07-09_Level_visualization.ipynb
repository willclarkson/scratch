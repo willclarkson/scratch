{
 "cells": [
  {
   "cell_type": "markdown",
   "metadata": {},
   "source": [
    "# 2016-07-09 Quintile visualization #"
   ]
  },
  {
   "cell_type": "markdown",
   "metadata": {},
   "source": [
    "**Purpose:** Create visualization of skewed data"
   ]
  },
  {
   "cell_type": "code",
   "execution_count": 2,
   "metadata": {
    "collapsed": true
   },
   "outputs": [],
   "source": [
    "import numpy as np\n",
    "import os"
   ]
  },
  {
   "cell_type": "code",
   "execution_count": 3,
   "metadata": {
    "collapsed": false
   },
   "outputs": [
    {
     "name": "stderr",
     "output_type": "stream",
     "text": [
      "/Users/clarkson/anaconda/lib/python2.7/site-packages/matplotlib/font_manager.py:273: UserWarning: Matplotlib is building the font cache using fc-list. This may take a moment.\n",
      "  warnings.warn('Matplotlib is building the font cache using fc-list. This may take a moment.')\n"
     ]
    }
   ],
   "source": [
    "import matplotlib.pyplot as plt\n",
    "%matplotlib inline"
   ]
  },
  {
   "cell_type": "code",
   "execution_count": 4,
   "metadata": {
    "collapsed": false
   },
   "outputs": [
    {
     "data": {
      "text/plain": [
       "array([ 0.1       ,  0.21544347,  0.46415888,  1.        ])"
      ]
     },
     "execution_count": 4,
     "metadata": {},
     "output_type": "execute_result"
    }
   ],
   "source": [
    "np.logspace(-1,0,4)"
   ]
  },
  {
   "cell_type": "markdown",
   "metadata": {},
   "source": [
    "# Setup #"
   ]
  },
  {
   "cell_type": "code",
   "execution_count": 5,
   "metadata": {
    "collapsed": false
   },
   "outputs": [],
   "source": [
    "# input data file\n",
    "a = np.genfromtxt('inData.csv', delimiter=',', skip_header=2)"
   ]
  },
  {
   "cell_type": "code",
   "execution_count": null,
   "metadata": {
    "collapsed": false
   },
   "outputs": [],
   "source": []
  },
  {
   "cell_type": "code",
   "execution_count": 6,
   "metadata": {
    "collapsed": true
   },
   "outputs": [],
   "source": [
    "# Some control values: levels#\n",
    "levs = np.array([1., 10., 50., 100])  # as percentages\n",
    "fontMin = 8.\n",
    "fontMax = 12.\n",
    "shadeMin = 0.1\n",
    "shadeMax = 0.6\n",
    "\n",
    "fontSzs = np.linspace(fontMin, fontMax, np.size(levs))\n",
    "shades = np.linspace(shadeMin, shadeMax, np.size(levs))[::-1]"
   ]
  },
  {
   "cell_type": "code",
   "execution_count": 7,
   "metadata": {
    "collapsed": true
   },
   "outputs": [],
   "source": [
    "# values - FOR DEVELOPMENT #\n",
    "vals = np.array([51.43, 94.29, 111.43, 120.])\n",
    "#vals = np.array([51.43, 94.29, 120., 120.])\n",
    "isLegend=True\n",
    "\n"
   ]
  },
  {
   "cell_type": "code",
   "execution_count": 8,
   "metadata": {
    "collapsed": true
   },
   "outputs": [],
   "source": [
    "# for actual use:\n",
    "yOffset = 0.07\n",
    "shoValues = True\n",
    "joinLines = False\n",
    "widthVary = False\n",
    "upperAndLower = False\n",
    "avoidCollision = True\n",
    "nudgeThird = True\n",
    "showPercentages = True\n",
    "whichFont = 'Arial'"
   ]
  },
  {
   "cell_type": "code",
   "execution_count": 15,
   "metadata": {
    "collapsed": false
   },
   "outputs": [],
   "source": [
    "# turn our notes into a method\n",
    "\n",
    "def shoStrip(vals=np.array([]), isLegend=False, yOffset = 0.08, \\\n",
    "             shoValues = True, joinLines = False, \\\n",
    "             widthVary = False, upperAndLower = False, \\\n",
    "             avoidCollision = True, nudgeThird = True, \\\n",
    "             showPercentages = True, fontMin = 6., \\\n",
    "             fontMax = 10., shadeMin = 0.01, shadeMax = 0.7, \\\n",
    "            figfil='dummy.pdf', figdir='plots', \\\n",
    "            whichFont='Arial'):\n",
    "\n",
    "    if np.size(vals)< 1:\n",
    "        return\n",
    "    \n",
    "    # font\n",
    "    fnt = {'fontname':whichFont}\n",
    "    \n",
    "    levs = np.array([1., 10., 50., 100])  # as percentages\n",
    "    fontSzs = np.linspace(fontMin, fontMax, np.size(levs))\n",
    "    shades = np.linspace(shadeMin, shadeMax, np.size(levs))[::-1]\n",
    "    #shades = 1.0 - np.logspace(-2,0,4)\n",
    "    #shades[0] = 0.85\n",
    "    \n",
    "    # WARN - hardcode!\n",
    "    shades= np.array([0.7, 0.6, 0.5, 0.0])\n",
    "    \n",
    "    # now try a plot\n",
    "    \n",
    "    # UPDATE - rescaling 2.80, 0.5\n",
    "    \n",
    "    buf = 0.01\n",
    "    plt.figure(1, figsize=(2.83,0.5), dpi=400)\n",
    "    plt.subplots_adjust(left=buf, right=1.-buf, top=1.-buf, bottom=buf)\n",
    "    plt.clf()\n",
    "    \n",
    "    if isLegend:\n",
    "        #shoValues = False\n",
    "        #vals = levs * (np.max(vals)/100.)\n",
    "        vals = np.array([51.43, 80.29, 104.43, 120.])\n",
    "        vals = np.linspace(2., 140., 4, endpoint=False)\n",
    "        nudgeThird = False\n",
    "        showPercentages = True\n",
    "\n",
    "        # levels to display if doing legend\n",
    "        sLegs = ['lowest', 'low', 'median', 'highest']\n",
    "        sComm = ['(1%s)' % ('%'), \\\n",
    "                 '(10%s)' % ('%'), \\\n",
    "                 '(50%s)' % ('%'), \\\n",
    "                '(100%s)' % ('%')]\n",
    "        #sComm = ['lowest', 'low', 'median', 'highest']\n",
    "    \n",
    "    maxPoss = np.max(vals)\n",
    "    \n",
    "    plt.plot(vals, np.repeat(0, np.size(vals)), color='w', marker='o', markeredgecolor='w')\n",
    "    if not isLegend:\n",
    "        plt.plot([0., maxPoss], [0., 0.], color=str(np.max(shades)+0.05))\n",
    "    plt.xlim(0.-0.05*maxPoss, maxPoss*1.2)\n",
    "    for iData in range(np.size(levs)):\n",
    "    \n",
    "        xThis = vals[iData]\n",
    "    \n",
    "        # Set the markersize appropriately\n",
    "        mSz = 4+np.float(iData)*2.\n",
    "    \n",
    "        if isLegend:\n",
    "            #yVert = -0.15 + 0.1 * iData\n",
    "            yVert = 0.\n",
    "            plt.plot(xThis, yVert, \\\n",
    "                        marker='o', \\\n",
    "                     markersize=mSz, \\\n",
    "                     color=str(shades[iData]), \\\n",
    "                    markeredgecolor='w', \\\n",
    "                     markeredgewidth=1, \\\n",
    "                    zorder=10-iData)\n",
    "\n",
    "            if shoValues:\n",
    "                fontSzs = np.repeat(fontMin, np.size(vals))\n",
    "\n",
    "            xSpacer = 4.\n",
    "            plt.annotate(sLegs[iData], (xThis+xSpacer, yVert), xycoords='data', \\\n",
    "                        ha='left', va='center', \\\n",
    "                    color=str(shades[iData]), fontsize=fontSzs[iData], \\\n",
    "                        **fnt)\n",
    "            plt.annotate(sComm[iData], (xThis+xSpacer, yVert-0.08), xycoords='data', \\\n",
    "                        ha='left', va='center', \\\n",
    "                    color=str(shades[iData]), fontsize=fontSzs[iData], \\\n",
    "                        **fnt)\n",
    "\n",
    "\n",
    "            continue\n",
    "    \n",
    "        yNudge = 0.\n",
    "        sLevl = '%i%s' % (levs[iData], '%')\n",
    "        if shoValues:\n",
    "            if iData == 2 and nudgeThird:\n",
    "                yNudge = 0.08\n",
    "            sThis = '%.2f' % (vals[iData])\n",
    "            fontSzs = np.repeat(fontMin, np.size(levs))\n",
    "            plt.annotate(sThis, (xThis, yOffset+yNudge), xycoords='data', \\\n",
    "                    ha='center', va='center', \\\n",
    "                    color=str(shades[iData]), \\\n",
    "                         fontsize=fontSzs[iData], \\\n",
    "                        **fnt)\n",
    "    \n",
    "        # vertical value for point plot\n",
    "        yVert = 0.\n",
    "        if avoidCollision and iData > 0:\n",
    "            iPoss = range(iData)\n",
    "            #dum = iPoss.pop(iData)\n",
    "            lPoss = np.asarray(iPoss, 'int')\n",
    "            diffs = np.abs(vals[lPoss]-xThis)\n",
    "        \n",
    "            if np.min(diffs) < 4.:\n",
    "                yVert = -0.03\n",
    "        \n",
    "            #print iPoss, diffs\n",
    "        \n",
    "        \n",
    "        plt.plot(vals[iData], yVert, \\\n",
    "                    marker='o', \\\n",
    "                 markersize=mSz, \\\n",
    "                 color=str(shades[iData]), \\\n",
    "                markeredgecolor='w', \\\n",
    "                 markeredgewidth=1, \\\n",
    "                zorder=10-iData)\n",
    "\n",
    "        if isLegend:\n",
    "            plt.annotate(sLegs[iData], (xThis, 0.+yOffset), xycoords='data', \\\n",
    "                        ha='center', va='center', \\\n",
    "                    color=str(shades[iData]), fontsize=fontSzs[iData], **fnt)\n",
    "    \n",
    "        lineY = np.array([0.00, 0.15]) # was 0.1\n",
    "        lineX = np.repeat(levs[iData] * maxPoss/100., 2)\n",
    "\n",
    "        lww = 1.\n",
    "        if widthVary:\n",
    "            lww = 1+iData*2\n",
    "    \n",
    "        if not isLegend:\n",
    "            # show a check on the graph for the expected location\n",
    "            plt.plot(lineX, 0.-lineY, color=str(shades[iData]), lw=lww)\n",
    "            if upperAndLower:\n",
    "                plt.plot(lineX, lineY, color=str(shades[iData]), lw=lww)\n",
    "\n",
    "            # annotate the expected percentage?\n",
    "            if showPercentages:\n",
    "                xOff = 1. * maxPoss/120.\n",
    "                plt.annotate('%s' % (sLevl), (lineX[0]+xOff, 0.-np.max(lineY)-0.01), \\\n",
    "                            xycoords='data', \\\n",
    "                            ha='left', va='bottom', \\\n",
    "                            color=str(shades[iData]), fontsize=fontSzs[iData], \\\n",
    "                            **fnt)\n",
    "    \n",
    "        if joinLines:\n",
    "            xLo = lineX[0]\n",
    "            xHi = xThis\n",
    "            yLo = 0.-np.min(lineY)\n",
    "            yHi = 0.\n",
    "        \n",
    "            plt.plot([xLo, xHi], [yLo, yHi], lw='1', \\\n",
    "                     color=str(shades[iData]), ls='-')\n",
    "    \n",
    "    #plt.plot(levs[iData], 0., marker='+', color=str(shades[iData]), \\\n",
    "    #            markerSize=fontSzs[iData])\n",
    "        \n",
    "    plt.ylim(-0.2, 0.22)\n",
    "    ax = plt.gca()\n",
    "    ax.yaxis.set_visible(False)\n",
    "    dum = ax.axis('off')\n",
    "    \n",
    "    if not os.access(figdir, os.R_OK):\n",
    "        os.mkdir(figdir)\n",
    "    \n",
    "    figPath = '%s/%s' % (figdir, figfil)\n",
    "    \n",
    "    plt.savefig(figPath)"
   ]
  },
  {
   "cell_type": "markdown",
   "metadata": {},
   "source": [
    "## run programmatically ##"
   ]
  },
  {
   "cell_type": "code",
   "execution_count": 16,
   "metadata": {
    "collapsed": false
   },
   "outputs": [
    {
     "data": {
      "image/png": "[encoded data removed]",
      "text/plain": [
       "<matplotlib.figure.Figure at 0x10b8de890>"
      ]
     },
     "metadata": {},
     "output_type": "display_data"
    }
   ],
   "source": [
    "iRow=0\n",
    "shoStrip(a[iRow], True, figfil='row_00_legend.pdf')"
   ]
  },
  {
   "cell_type": "code",
   "execution_count": 17,
   "metadata": {
    "collapsed": false
   },
   "outputs": [
    {
     "data": {
      "image/png": "[encoded data removed]",
      "text/plain": [
       "<matplotlib.figure.Figure at 0x10b910cd0>"
      ]
     },
     "metadata": {},
     "output_type": "display_data"
    }
   ],
   "source": [
    "nRows = np.shape(a)[0]\n",
    "for iRow in range(nRows):\n",
    "    if iRow < nRows - 1:\n",
    "        showPct = False\n",
    "    else:\n",
    "        showPct = True\n",
    "    shoStrip(a[iRow], False, figfil='row_%s.pdf' % (str(iRow+1).zfill(2)), showPercentages=showPct)"
   ]
  },
  {
   "cell_type": "code",
   "execution_count": 471,
   "metadata": {
    "collapsed": false
   },
   "outputs": [
    {
     "name": "stdout",
     "output_type": "stream",
     "text": [
      "120.00\n"
     ]
    }
   ],
   "source": [
    "print sThis"
   ]
  },
  {
   "cell_type": "code",
   "execution_count": null,
   "metadata": {
    "collapsed": true
   },
   "outputs": [],
   "source": []
  }
 ],
 "metadata": {
  "kernelspec": {
   "display_name": "Python 2",
   "language": "python",
   "name": "python2"
  },
  "language_info": {
   "codemirror_mode": {
    "name": "ipython",
    "version": 2
   },
   "file_extension": ".py",
   "mimetype": "text/x-python",
   "name": "python",
   "nbconvert_exporter": "python",
   "pygments_lexer": "ipython2",
   "version": "2.7.11"
  }
 },
 "nbformat": 4,
 "nbformat_minor": 0
}

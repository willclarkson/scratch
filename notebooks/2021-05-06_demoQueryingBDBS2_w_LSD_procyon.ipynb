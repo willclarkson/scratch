{
 "cells": [
  {
   "cell_type": "markdown",
   "metadata": {},
   "source": [
    "## 2021-05-06 Demo notebook querying the BDBSv2 catalog using lsd (procyon version) ##"
   ]
  },
  {
   "cell_type": "markdown",
   "metadata": {},
   "source": [
    "**2021-05-06:** Demonstrate querying BDBS2 using Mario Juric' Large Survey Database. Two queries are shown: one querying BDBS2 and plotting it, the other using lsd's capability to crossmatch at query time.\n",
    "\n",
    "Documentation for lsd is a bit incomplete... the most useful link is probably its wiki page, which contains important info and caveats about the way lsd matches: https://github.com/mjuric/lsd/wiki"
   ]
  },
  {
   "cell_type": "code",
   "execution_count": null,
   "metadata": {
    "collapsed": true
   },
   "outputs": [],
   "source": [
    "%matplotlib inline"
   ]
  },
  {
   "cell_type": "markdown",
   "metadata": {},
   "source": [
    "## 1. Initial setup - check that we have access to the database ##"
   ]
  },
  {
   "cell_type": "code",
   "execution_count": null,
   "metadata": {
    "collapsed": true
   },
   "outputs": [],
   "source": [
    "import os\n",
    "import matplotlib.pylab as plt\n",
    "import numpy as np"
   ]
  },
  {
   "cell_type": "code",
   "execution_count": null,
   "metadata": {
    "collapsed": false
   },
   "outputs": [],
   "source": [
    "# where are we running this? (Always handy to know)\n",
    "print(os.getcwd())"
   ]
  },
  {
   "cell_type": "code",
   "execution_count": null,
   "metadata": {
    "collapsed": true
   },
   "outputs": [],
   "source": [
    "# astropy tools will be useful\n",
    "from astropy.table import Table\n",
    "from astropy.coordinates import SkyCoord\n",
    "import astropy.units as u"
   ]
  },
  {
   "cell_type": "code",
   "execution_count": null,
   "metadata": {
    "collapsed": true
   },
   "outputs": [],
   "source": [
    "os.environ['NWORKERS'] = \"4\"\n",
    "\n",
    "# set to 1 to avoid bad message length (but slower processing)\n",
    "#os.environ['NWORKERS'] = \"1\"\n",
    "from lsd import DB\n",
    "from lsd.bounds import beam, rectangle\n",
    "from lsd.join_ops import Query\n",
    "\n",
    "db = None # useful to set this so we can test if it's set later."
   ]
  },
  {
   "cell_type": "code",
   "execution_count": null,
   "metadata": {
    "collapsed": false
   },
   "outputs": [],
   "source": [
    "# The tables are subdirectories in the directory indicated by \n",
    "# the environment variable LSD_DB. We use the shell to list its\n",
    "# contents\n",
    "!ls $LSD_DB"
   ]
  },
  {
   "cell_type": "code",
   "execution_count": null,
   "metadata": {
    "collapsed": false
   },
   "outputs": [],
   "source": [
    "# On procyon, we have bdbs2 and various external catalogs. Let's demo matching to one of them.\n",
    "\n",
    "# What columns do we have?\n",
    "!lsd-admin desc table bdbs2\n"
   ]
  },
  {
   "cell_type": "markdown",
   "metadata": {},
   "source": [
    "## Example 1: Query database and plot ##"
   ]
  },
  {
   "cell_type": "markdown",
   "metadata": {},
   "source": [
    "### 1.1. Build the query ###"
   ]
  },
  {
   "cell_type": "code",
   "execution_count": null,
   "metadata": {
    "collapsed": true
   },
   "outputs": [],
   "source": [
    "# Decide which columns we want\n",
    "sql = 'select ra, dec, u, g, r, i, z, y from bdbs2'\n"
   ]
  },
  {
   "cell_type": "code",
   "execution_count": null,
   "metadata": {
    "collapsed": false
   },
   "outputs": [],
   "source": [
    "# decide where we're going to look\n",
    "lCen = 9.9\n",
    "bCen = -7.55\n",
    "radDeg = 0.2\n",
    "\n",
    "# Construct the region we'll use to query this. First example is a circular \"beam\".\n",
    "# coordsys 'gal' = galactic, 'equ' = equatorial\n",
    "# region = beam(lCen, bCen, radDeg, coordsys='gal')\n",
    "\n",
    "# ... or we could do a rectangle. We specify the lower left and upper right corners:\n",
    "region = rectangle(lCen-0.4, bCen-0.3, lCen+0.4, bCen+0.3, coordsys='gal')"
   ]
  },
  {
   "cell_type": "markdown",
   "metadata": {},
   "source": [
    "### 1.2 Connect to the database and execute the query ###"
   ]
  },
  {
   "cell_type": "code",
   "execution_count": null,
   "metadata": {
    "collapsed": true
   },
   "outputs": [],
   "source": [
    "# Connect to the database\n",
    "if db is None:\n",
    "    db = DB(os.environ['LSD_DB'])"
   ]
  },
  {
   "cell_type": "code",
   "execution_count": null,
   "metadata": {
    "collapsed": false
   },
   "outputs": [],
   "source": [
    "# now we execute the query and convert it to an astropy table\n",
    "rows = db.query(sql).fetch(bounds=[(region, None)])\n",
    "tabl = Table(rows.as_ndarray())"
   ]
  },
  {
   "cell_type": "code",
   "execution_count": null,
   "metadata": {
    "collapsed": false
   },
   "outputs": [],
   "source": [
    "# let's see what columns we have#\n",
    "print(tabl)"
   ]
  },
  {
   "cell_type": "markdown",
   "metadata": {},
   "source": [
    "### 1.3 Plot the returned database, do selections, etc. ###"
   ]
  },
  {
   "cell_type": "code",
   "execution_count": null,
   "metadata": {
    "collapsed": false,
    "scrolled": true
   },
   "outputs": [],
   "source": [
    "fig1 = plt.figure(1, figsize=(12,8))\n",
    "fig1.clf()\n",
    "ax1 = fig1.add_subplot(111)\n",
    "\n",
    "rbri = 12.\n",
    "rfai = 15.\n",
    "\n",
    "# Let's select some stars that might be interesting\n",
    "bSho = (tabl['r'] > rbri) & (tabl['r'] < rfai) \n",
    "\n",
    "# Our original table does have Galactic coordinates, but we didn't select\n",
    "# them in the query. So let's calculate Galactic coordinates here.\n",
    "coo=SkyCoord(tabl['ra']*u.degree, tabl['dec']*u.degree, frame='fk5')\n",
    "ll = coo.galactic.l.degree\n",
    "bb = coo.galactic.b.degree\n",
    "\n",
    "# set a radius array that scales with the color value\n",
    "rval = tabl['r'][bSho]\n",
    "sval = 10 + 49*( (np.max(rval) - rval) / (np.max(rval)-np.min(rval)) )\n",
    "\n",
    "dum = ax1.scatter(ll[bSho], bb[bSho], c=tabl['r'][bSho], edgecolor='None', cmap='viridis', s=sval, \\\n",
    "                 vmin=rbri, vmax=rfai)\n",
    "\n",
    "cbar = fig1.colorbar(dum, ax=ax1, label='r (BDBS)')\n",
    "\n",
    "\n",
    "ax1.invert_xaxis()\n",
    "ax1.set_xlabel('l (degree)')\n",
    "ax1.set_ylabel('b (degree)')\n",
    "\n",
    "#ax1.set_xlabel(r'$\\alpha$ (BDBS)')\n",
    "#ax1.set_ylabel(r'$\\delta$ (BDBS)')\n",
    "ax1.grid(which='both', visible=True)\n",
    "\n",
    "ax1.set_title('Query: %i selected' % (np.sum(bSho)))"
   ]
  },
  {
   "cell_type": "markdown",
   "metadata": {},
   "source": [
    "## Example: crossmatch with another database at query time ##"
   ]
  },
  {
   "cell_type": "markdown",
   "metadata": {},
   "source": [
    "lsd's \"killer feature\" is its ability to do cross-matches at query time. Here's an example. Suppose we want to cross-match bdbs2 against VVV at query time:"
   ]
  },
  {
   "cell_type": "markdown",
   "metadata": {},
   "source": [
    "### 2.1. List the columns in the two tables ###"
   ]
  },
  {
   "cell_type": "code",
   "execution_count": null,
   "metadata": {
    "collapsed": false
   },
   "outputs": [],
   "source": [
    "# What columns do we hvae in vvv?\n",
    "!lsd-admin desc table vvvPhotFull"
   ]
  },
  {
   "cell_type": "code",
   "execution_count": null,
   "metadata": {
    "collapsed": false
   },
   "outputs": [],
   "source": [
    "# columns in the original bdbs2\n",
    "!lsd-admin desc table bdbs2"
   ]
  },
  {
   "cell_type": "markdown",
   "metadata": {},
   "source": [
    "### 2.2 Construct the query including crossmatching ###"
   ]
  },
  {
   "cell_type": "markdown",
   "metadata": {},
   "source": [
    "We illustrate syntax that crossmatches the two tables and includes data from the two tables in the output.\n",
    "\n",
    "We will query BDBS2 and match it to the VVV aperture photometry catalog"
   ]
  },
  {
   "cell_type": "code",
   "execution_count": null,
   "metadata": {
    "collapsed": true
   },
   "outputs": [],
   "source": [
    "# I find it easier to read if I build the query line by line. We'll print it at the end\n",
    "# to see what we created.\n",
    "\n",
    "# The columns we want from each table...\n",
    "squery = 'select ra, dec, vvvPhotFull.RA2000 as vvv_ra, vvvPhotFull.DEC2000 as vvv_dec'\n",
    "squery = '%s, u, g, r, i, z, y' % (squery)\n",
    "\n",
    "# Now let's add some VVV photometry\n",
    "squery = '%s, vvvPhotFull.ZAPERMAG3 as vvv_z, vvvPhotFull.YAPERMAG3 as vvv_y' % (squery)\n",
    "squery = '%s, vvvPhotFull.JAPERMAG3 as vvv_j, vvvPhotFull.HAPERMAG3 as vvv_h' % (squery)\n",
    "squery = '%s, vvvPhotFull.KSAPERMAG3 as vvv_ks' % (squery)\n",
    "\n",
    "# The distance in arcsec between gaia and BDBS2:\n",
    "squery = '%s, vvvPhotFull._DIST*3600 as dist from bdbs2' % (squery)\n",
    "\n",
    "# Instruct lsd to match bdbs to vvv\n",
    "squery = '%s, vvvPhotFull(matchedto=bdbs2)' % (squery)"
   ]
  },
  {
   "cell_type": "code",
   "execution_count": null,
   "metadata": {
    "collapsed": false
   },
   "outputs": [],
   "source": [
    "# let's see what this query looks like\n",
    "print(squery)"
   ]
  },
  {
   "cell_type": "code",
   "execution_count": null,
   "metadata": {
    "collapsed": true
   },
   "outputs": [],
   "source": [
    "# We already defined the region upstream in this notebook... Uncomment the following to change it\n",
    "\n",
    "## decide where we're going to look\n",
    "#lCen = 9.9\n",
    "#bCen = -7.55\n",
    "#radDeg = 0.2\n",
    "\n",
    "## Construct the region we'll use to query this. First example is a circular \"beam\".\n",
    "## coordsys 'gal' = galactic, 'equ' = equatorial\n",
    "#region = beam(lCen, bCen, radDeg, coordsys='gal')\n",
    "\n",
    "## ... or we could do a rectangle. We specify the lower left and upper right corners:\n",
    "#region = rectangle(lCen-0.4, bCen-0.3, lCen+0.4, bCen+0.3, coordsys='gal')"
   ]
  },
  {
   "cell_type": "code",
   "execution_count": null,
   "metadata": {
    "collapsed": false
   },
   "outputs": [],
   "source": [
    "# Ensure we are connected to the database, and query the catalog\n",
    "if db is None:\n",
    "    db = DB(os.environ['LSD_DB'])\n",
    "    \n",
    "rows2 = db.query(squery).fetch(bounds=[(region, None)])\n",
    "tabl2 = Table(rows2.as_ndarray())"
   ]
  },
  {
   "cell_type": "code",
   "execution_count": null,
   "metadata": {
    "collapsed": false
   },
   "outputs": [],
   "source": [
    "# Let's see what we just retrieved\n",
    "print(tabl2)"
   ]
  },
  {
   "cell_type": "markdown",
   "metadata": {},
   "source": [
    "### 2.3. Plot the results of this query ###"
   ]
  },
  {
   "cell_type": "code",
   "execution_count": null,
   "metadata": {
    "collapsed": false
   },
   "outputs": [],
   "source": [
    "fig2 = plt.figure(2, figsize=(12,8))\n",
    "fig2.clf()\n",
    "ax2 = fig2.add_subplot(111)\n",
    "\n",
    "rbri = 12.\n",
    "rfai = 15.\n",
    "\n",
    "# Let's select some stars that might be interesting\n",
    "bBri = (tabl2['r'] > rbri) & (tabl2['r'] < rfai) \n",
    "\n",
    "# select by distance\n",
    "bSel = tabl2['dist'] < 0.2\n",
    "\n",
    "bSho = (bBri) & (bSel)\n",
    "\n",
    "\n",
    "# Our original table does have Galactic coordinates, but we didn't select\n",
    "# them in the query. So let's calculate Galactic coordinates here.\n",
    "coo=SkyCoord(tabl2['ra']*u.degree, tabl2['dec']*u.degree, frame='fk5')\n",
    "ll2 = coo.galactic.l.degree\n",
    "bb2 = coo.galactic.b.degree\n",
    "\n",
    "# set a radius array that scales with the color value\n",
    "rval = tabl2['r'][bSho]\n",
    "sval = 10 + 49*( (np.max(rval) - rval) / (np.max(rval)-np.min(rval)) )\n",
    "\n",
    "dum2 = ax2.scatter(ll2[bSho], bb2[bSho], c=tabl2['r'][bSho], edgecolor='None', cmap='viridis', s=sval, \\\n",
    "                 vmin=rbri, vmax=rfai)\n",
    "\n",
    "cbar2 = fig2.colorbar(dum2, ax=ax2, label='r (BDBS)')\n",
    "\n",
    "\n",
    "ax2.invert_xaxis()\n",
    "ax2.set_xlabel('l (degree)')\n",
    "ax2.set_ylabel('b (degree)')\n",
    "\n",
    "#ax2.set_xlabel(r'$\\alpha$ (BDBS)')\n",
    "#ax2.set_ylabel(r'$\\delta$ (BDBS)')\n",
    "ax2.grid(which='both', visible=True)\n",
    "\n",
    "ax2.set_title('Cross-matched at query: %i selected' % (np.sum(bSho)))"
   ]
  },
  {
   "cell_type": "markdown",
   "metadata": {
    "collapsed": true
   },
   "source": [
    "### 2.4. Let's try comparing BDBS2 and VVV z-band photometry ###"
   ]
  },
  {
   "cell_type": "code",
   "execution_count": null,
   "metadata": {
    "collapsed": false
   },
   "outputs": [],
   "source": [
    "bGood = (np.isfinite(tabl2['vvv_z'])) & (tabl2['z'] > 0) & (tabl2['dist'] < 0.2)\n",
    "bGood = (bGood) & (tabl2['vvv_z'] < 90) & (tabl2['z'] < 90)\n",
    "\n",
    "# how does this look?\n",
    "fig2 = plt.figure(2, figsize=(12,5))\n",
    "fig2.clf()\n",
    "ax2 = fig2.add_subplot(111)\n",
    "blah = ax2.scatter(tabl2['z'][bGood], \\\n",
    "                tabl2['z'][bGood] - tabl2['vvv_z'][bGood], \\\n",
    "                c=tabl2['dist'][bGood], edgecolor='None', alpha=0.2, \\\n",
    "               cmap='plasma_r', s=5, zorder=5)\n",
    "ax2.set_xlim(12,22)\n",
    "ax2.set_ylim(-3,8)\n",
    "ax2.set_xlabel('z (BDBS2)', fontsize=14)\n",
    "ax2.set_ylabel('z(BDBS) - z(VVV)', fontsize=14)\n",
    "cm = fig2.colorbar(blah, ax=ax2, label='Separation (arcsec)')\n",
    "ax2.set_title('z-band comparison: BDBS2 to VVV aperture mag z', fontsize=14)\n",
    "ax2.grid(which='both', zorder=1, visible=True, alpha=0.5)\n"
   ]
  },
  {
   "cell_type": "markdown",
   "metadata": {},
   "source": [
    "### 2.5. Any examples with measurements at ugrizJHKs? ###"
   ]
  },
  {
   "cell_type": "code",
   "execution_count": null,
   "metadata": {
    "collapsed": false
   },
   "outputs": [],
   "source": [
    "# let's loop through the filters\n",
    "bSel = tabl2['dist'] < 0.3 # arcsec\n",
    "for sCol in ['u', 'g', 'r', 'i', 'z', 'y', 'vvv_j', 'vvv_h', 'vvv_ks']:\n",
    "    \n",
    "    # find the good measurements in this filter\n",
    "    bThis = (tabl2[sCol] < 90) & (np.isfinite(tabl2[sCol])) & (tabl2[sCol] > 0)\n",
    "    \n",
    "    bSel = (bSel) & (bThis)\n",
    "    \n",
    "    # monitor how the selection dwindles as we add more constraints\n",
    "    print(\"Selecting further on %s: %i\" % (sCol, np.sum(bSel)))"
   ]
  },
  {
   "cell_type": "code",
   "execution_count": null,
   "metadata": {
    "collapsed": false
   },
   "outputs": [],
   "source": [
    "# For convenience, let's create a new view of the entire table to avoid having\n",
    "# to type all those booleans\n",
    "tSel = tabl2[bSel]\n",
    "\n",
    "# Again, I forgot to bring the Galactic coordinates in. So let's compute them.\n",
    "coo2 = SkyCoord(tSel['ra']*u.degree, tSel['dec']*u.degree, frame='fk5')\n",
    "l2 = coo2.galactic.l.degree\n",
    "b2 = coo2.galactic.b.degree\n",
    "\n",
    "# where is our cluster centered? (Give this a new pair\n",
    "# of variables so that we can move it if needed)\n",
    "lc = 9.89\n",
    "bc = -7.54\n",
    "\n",
    "# Generate an approximate distance array from the field center\n",
    "radii = np.sqrt((l2 - lCen)**2 + (b2-bCen)**2)\n",
    "\n",
    "# try a wide color CMD\n",
    "fig3 = plt.figure(3, figsize=(14,8))\n",
    "fig3.clf()\n",
    "ax3 = fig3.add_subplot(121)\n",
    "\n",
    "dum2 = ax3.scatter(tSel['u'] - tSel['vvv_ks'], tSel['i'], alpha=0.2, \\\n",
    "                   c=radii, \\\n",
    "                   edgecolor='None', s=8, \\\n",
    "                  cmap='plasma', zorder=5)\n",
    "\n",
    "ax3.set_xlabel(r'u (BDBS2) - K$_s$ (VVV)', fontsize=14)\n",
    "ax3.set_ylabel(r'i (BDBS2)', fontsize=14)\n",
    "\n",
    "# ax3.grid(which='both', visible=True, alpha=0.5, zorder=1)\n",
    "\n",
    "ax3.set_xlim(0,9)\n",
    "ax3.set_ylim(13,20)\n",
    "ax3.invert_yaxis()\n",
    "ax3.set_title('Color coded by separation from cluster center')\n",
    "\n",
    "cm3 = fig3.colorbar(dum2, ax=ax3, label='distance (arcsec)')\n",
    "\n",
    "# let's show the coords of our matching objects\n",
    "\n",
    "# Take a reasonably bright sample to avoid cluttering the plot\n",
    "bBri = tSel['i'] < 18\n",
    "\n",
    "axhoriz = ax3.axhline(18, ls='--', zorder=10, color='k')\n",
    "\n",
    "ax4 = fig3.add_subplot(222)\n",
    "dum4 = ax4.scatter(l2[bBri], b2[bBri], c=radii[bBri], cmap='plasma', \\\n",
    "                  edgecolor='None', s=2, alpha=0.5)\n",
    "ax4.set_xlabel('l (deg)', fontsize=14)\n",
    "ax4.set_ylabel('b (deg)', fontsize=14)\n",
    "ax4.invert_xaxis()\n",
    "ax4.set_title('Cluster center indicated')\n",
    "cm4 = fig3.colorbar(dum4, ax=ax4, label='distance (arcsec)')\n",
    "\n",
    "\n",
    "blah2 = ax4.scatter(lc, bc, marker='*', c='c', edgecolor='c', s=100, zorder=15, \\\n",
    "                   label='cluster center')\n",
    "leg4=ax4.legend(scatterpoints=1)\n",
    "\n",
    "# How do the positions compare?\n",
    "ax5 = fig3.add_subplot(224)\n",
    "dra = (tSel['ra'] - tSel['vvv_ra']) * np.cos(np.radians(tSel['dec']))\n",
    "dde = tSel['dec'] - tSel['vvv_dec']\n",
    "dum5 = ax5.scatter(dra[bBri]*3600., \\\n",
    "                  dde[bBri]*3600., \\\n",
    "                  c=radii[bBri], \\\n",
    "                   #vmin=15., vmax=18., \\\n",
    "                   s=2, \\\n",
    "                   alpha=0.20, \\\n",
    "                   cmap='plasma', \\\n",
    "                  edgecolor='None')\n",
    "ax5.set_ylim(-0.25, 0.25)\n",
    "ax5.set_xlim(-0.3, 0.3)\n",
    "ax5.set_xlabel(r'$\\Delta \\alpha \\cos \\delta$ (\")', fontsize=16)\n",
    "ax5.set_ylabel(r'$\\Delta \\delta$ (\")', fontsize=16)\n",
    "ax5.set_title('BDBS - VVV separations (i < 18)')\n",
    "cm5 = fig3.colorbar(dum5, ax=ax5, label='distance (arcsec)')\n",
    "\n",
    "# let's pick a random BHB object and print out its apparent magnitudes\n",
    "bBHB = (tSel['u'] - tSel['vvv_ks'] < 2) & (tSel['i'] < 15.5)\n",
    "lRows = np.arange(len(tSel))\n",
    "lBHB = lRows[bBHB][3]\n",
    "for sCol in ['u', 'g', 'r', 'i', 'z', 'vvv_z', 'y', 'vvv_y', 'vvv_j', 'vvv_h', 'vvv_ks']:\n",
    "    print(\"%s: %.2f\" % (sCol, tSel[sCol][lBHB]))\n",
    "    \n",
    "# add grids\n",
    "for ax in [ax3, ax4, ax5]:\n",
    "    ax.grid(which='both', visible=True, alpha=0.5, zorder=1)\n",
    "    \n",
    "fig3.subplots_adjust(wspace=0.3, hspace=0.3)\n",
    "\n",
    "# save the figure as rasterized png\n",
    "fig3.savefig('tmp_cmd.png', rasterized=True)\n"
   ]
  },
  {
   "cell_type": "code",
   "execution_count": null,
   "metadata": {
    "collapsed": true
   },
   "outputs": [],
   "source": [
    "# we can write the selected table to disk\n",
    "tSel.write('tmp_query_subset.fits.gz', overwrite=True)"
   ]
  },
  {
   "cell_type": "code",
   "execution_count": null,
   "metadata": {
    "collapsed": false
   },
   "outputs": [],
   "source": [
    "!ls -rtlh tmp_*.*"
   ]
  },
  {
   "cell_type": "code",
   "execution_count": null,
   "metadata": {
    "collapsed": true
   },
   "outputs": [],
   "source": []
  }
 ],
 "metadata": {
  "kernelspec": {
   "display_name": "Python 2",
   "language": "python",
   "name": "python2"
  },
  "language_info": {
   "codemirror_mode": {
    "name": "ipython",
    "version": 2
   },
   "file_extension": ".py",
   "mimetype": "text/x-python",
   "name": "python",
   "nbconvert_exporter": "python",
   "pygments_lexer": "ipython2",
   "version": "2.7.11"
  }
 },
 "nbformat": 4,
 "nbformat_minor": 1
}
